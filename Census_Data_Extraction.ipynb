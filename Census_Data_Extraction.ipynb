{
  "cells": [
    {
      "cell_type": "markdown",
      "metadata": {
        "id": "d5-DhuJgKFH0"
      },
      "source": [
        "This code accesses the Census dataset and creates CSV files with median house value, median household income, racial demographics, and educational attainment data for all census tracts in the New Jersey Mercer County area."
      ]
    },
    {
      "cell_type": "code",
      "execution_count": null,
      "metadata": {
        "colab": {
          "base_uri": "https://localhost:8080/"
        },
        "id": "Lnix8eZv02Ow",
        "outputId": "9b6e0d7b-d6f8-4d48-9d26-2d9f8d817658"
      },
      "outputs": [
        {
          "output_type": "stream",
          "name": "stdout",
          "text": [
            "Collecting census\n",
            "  Downloading census-0.8.24-py3-none-any.whl.metadata (8.2 kB)\n",
            "Requirement already satisfied: requests>=1.1.0 in /usr/local/lib/python3.11/dist-packages (from census) (2.32.3)\n",
            "Requirement already satisfied: charset-normalizer<4,>=2 in /usr/local/lib/python3.11/dist-packages (from requests>=1.1.0->census) (3.4.3)\n",
            "Requirement already satisfied: idna<4,>=2.5 in /usr/local/lib/python3.11/dist-packages (from requests>=1.1.0->census) (3.10)\n",
            "Requirement already satisfied: urllib3<3,>=1.21.1 in /usr/local/lib/python3.11/dist-packages (from requests>=1.1.0->census) (2.5.0)\n",
            "Requirement already satisfied: certifi>=2017.4.17 in /usr/local/lib/python3.11/dist-packages (from requests>=1.1.0->census) (2025.8.3)\n",
            "Downloading census-0.8.24-py3-none-any.whl (11 kB)\n",
            "Installing collected packages: census\n",
            "Successfully installed census-0.8.24\n",
            "Collecting us\n",
            "  Downloading us-3.2.0-py3-none-any.whl.metadata (10 kB)\n",
            "Collecting jellyfish (from us)\n",
            "  Downloading jellyfish-1.2.0-cp311-cp311-manylinux_2_17_x86_64.manylinux2014_x86_64.whl.metadata (2.6 kB)\n",
            "Downloading us-3.2.0-py3-none-any.whl (13 kB)\n",
            "Downloading jellyfish-1.2.0-cp311-cp311-manylinux_2_17_x86_64.manylinux2014_x86_64.whl (356 kB)\n",
            "\u001b[2K   \u001b[90m━━━━━━━━━━━━━━━━━━━━━━━━━━━━━━━━━━━━━━━━\u001b[0m \u001b[32m356.9/356.9 kB\u001b[0m \u001b[31m11.0 MB/s\u001b[0m eta \u001b[36m0:00:00\u001b[0m\n",
            "\u001b[?25hInstalling collected packages: jellyfish, us\n",
            "Successfully installed jellyfish-1.2.0 us-3.2.0\n"
          ]
        }
      ],
      "source": [
        "!pip install census\n",
        "!pip install us"
      ]
    },
    {
      "cell_type": "code",
      "execution_count": null,
      "metadata": {
        "id": "gMWA5kQq0yNC"
      },
      "outputs": [],
      "source": [
        "from census import Census\n",
        "from us import states\n",
        "import pandas as pd\n",
        "\n",
        "import requests\n",
        "from requests.adapters import HTTPAdapter\n",
        "from requests.packages.urllib3.util.retry import Retry"
      ]
    },
    {
      "cell_type": "code",
      "execution_count": null,
      "metadata": {
        "colab": {
          "base_uri": "https://localhost:8080/"
        },
        "id": "JaFPrT8s2Edi",
        "outputId": "75095b6e-cb30-4550-bcac-86032ccd7d1b"
      },
      "outputs": [
        {
          "output_type": "stream",
          "name": "stdout",
          "text": [
            "Mounted at /content/drive\n"
          ]
        }
      ],
      "source": [
        "from google.colab import drive\n",
        "drive.mount('/content/drive')"
      ]
    },
    {
      "cell_type": "code",
      "source": [
        "dir = \"/path/to/your/data\" # Replace with actual file directory"
      ],
      "metadata": {
        "id": "FRPvAnmQ8bld"
      },
      "execution_count": null,
      "outputs": []
    },
    {
      "cell_type": "code",
      "execution_count": null,
      "metadata": {
        "id": "Gg6WNO2iG-s4"
      },
      "outputs": [],
      "source": [
        "# Configure retries for the requests session\n",
        "session = requests.Session()\n",
        "retries = Retry(total=5, backoff_factor=0.1, status_forcelist=[500, 502, 503, 504])\n",
        "session.mount('http://', HTTPAdapter(max_retries=retries))\n",
        "session.mount('https://', HTTPAdapter(max_retries=retries))\n"
      ]
    },
    {
      "cell_type": "code",
      "execution_count": null,
      "metadata": {
        "id": "XGYG_SRC04s_"
      },
      "outputs": [],
      "source": [
        "# Census API key\n",
        "# request a key from https://api.census.gov/data/key_signup.html\n",
        "CENSUS_API_KEY = \"(Your Census Key)\"\n",
        "c = Census(CENSUS_API_KEY)"
      ]
    },
    {
      "cell_type": "code",
      "source": [
        "# Federal Information Processing Standard codes (FIPS)\n",
        "# Change to your state's or county's corresponding FIPS code\n",
        "state_fips = states.NJ.fips  # New Jersey state FIPS (34)\n",
        "county_fips = \"021\"          # Mercer County FIPS (021)\n",
        "\n",
        "# Define valid years for Census API (2012 to 2022)\n",
        "valid_years = range(2012, 2023)"
      ],
      "metadata": {
        "id": "vygx_i_gUlVp"
      },
      "execution_count": null,
      "outputs": []
    },
    {
      "cell_type": "markdown",
      "source": [
        "# Functions"
      ],
      "metadata": {
        "id": "oF01ROYOD5Qd"
      }
    },
    {
      "cell_type": "code",
      "execution_count": null,
      "metadata": {
        "id": "Vy3Nv84V-8fn"
      },
      "outputs": [],
      "source": [
        "from census import Census\n",
        "from us import states\n",
        "import pandas as pd\n",
        "\n",
        "def fetch_census_data_by_field(state_fips, county_fips, valid_years, field, field_name):\n",
        "    \"\"\"\n",
        "    Fetches data for a specific field (e.g., Median Household Income or Median House Value)\n",
        "    for a specific state and county for each year in the valid_years range.\n",
        "\n",
        "    Parameters:\n",
        "    - state_fips: FIPS code for the state (e.g., \"34\" for New Jersey)\n",
        "    - county_fips: FIPS code for the county (e.g., \"021\" for Mercer County)\n",
        "    - valid_years: List or range of years to fetch data for (e.g., range(2012,2023) for 2012 to 2022)\n",
        "    - field: The field code to query (e.g., 'B19013_001E')\n",
        "    - field_name: The name of the field (e.g., 'Median_Household_Income')\n",
        "\n",
        "    Returns:\n",
        "    - data_all: DataFrame with data for the specified field for the specified years\n",
        "    \"\"\"\n",
        "    # Initialize an empty DataFrame to store yearly data\n",
        "    data_all = pd.DataFrame()\n",
        "\n",
        "    # Fetch data for each year\n",
        "    for year in valid_years:\n",
        "        try:\n",
        "            # Fetch data for the given field and year using acs5 (5-year estimates)\n",
        "            data = c.acs5.state_county_tract(\n",
        "                state_fips=state_fips,\n",
        "                county_fips=county_fips,\n",
        "                tract=Census.ALL,  # All Census Tracts\n",
        "                year=year,  # Dynamically specify the year\n",
        "                fields=(field,)  # The field to query (e.g., Median Household Income or Median House Value)\n",
        "            )\n",
        "\n",
        "            # Check if the data returned is empty or missing\n",
        "            if not data:\n",
        "                print(f\"No data found for {field_name} in {year}\")\n",
        "                continue\n",
        "\n",
        "            # Convert the data to a DataFrame\n",
        "            df = pd.DataFrame(data)\n",
        "\n",
        "            # Rename columns for clarity\n",
        "            df.rename(columns={\n",
        "                field: f'{field_name}_{year}',  # Add year to column name\n",
        "                'state': 'State_FIPS',\n",
        "                'county': 'County_FIPS',\n",
        "                'tract': 'Census_Tract'  # Ensure tract is renamed correctly\n",
        "            }, inplace=True)\n",
        "\n",
        "            # Merge yearly data\n",
        "            if data_all.empty:\n",
        "                data_all = df\n",
        "            else:\n",
        "                data_all = pd.merge(data_all, df, on=['State_FIPS', 'County_FIPS', 'Census_Tract'], how='outer')\n",
        "\n",
        "        except Exception as e:\n",
        "            print(f\"Error fetching data for {field_name} in {year}: {e}\")\n",
        "\n",
        "    return data_all\n"
      ]
    },
    {
      "cell_type": "code",
      "source": [
        "def prepare_yearly_data(df, valid_years, field_name):\n",
        "    \"\"\"\n",
        "    Prepares a dataset by:\n",
        "    - Adding a Unique_ID column from State_FIPS, County_FIPS, and Census_Tract\n",
        "    - Reordering columns with Unique_ID first\n",
        "    - Keeping only the Unique_ID, location identifiers, and <field_name>_* columns for valid years\n",
        "\n",
        "    Parameters\n",
        "    - df: DataFrame containing the census data.\n",
        "    - valid_years: List or range of years to fetch data for (e.g., range(2012,2023) for 2012 to 2022)\n",
        "    - field_name: The name of the field (e.g., 'Median_Household_Income')\n",
        "\n",
        "    Returns:\n",
        "    - final_data: A cleaned and reordered DataFrame.\n",
        "    \"\"\"\n",
        "    final_data = df.copy()\n",
        "\n",
        "    # Generate Unique ID directly in the table\n",
        "    final_data['Unique_ID'] = (\n",
        "        final_data['State_FIPS'].astype(str) +\n",
        "        final_data['County_FIPS'].astype(str) +\n",
        "        final_data['Census_Tract'].astype(str)\n",
        "    )\n",
        "\n",
        "    # Reorder columns to place Unique_ID first\n",
        "    cols = ['Unique_ID'] + [col for col in final_data.columns if col != 'Unique_ID']\n",
        "    final_data = final_data[cols]\n",
        "\n",
        "    # Define desired column order\n",
        "    desired_column_order = ['Unique_ID', 'State_FIPS', 'County_FIPS', 'Census_Tract']\n",
        "\n",
        "    # Dynamically add the specified field's columns for the valid years\n",
        "    for year in valid_years:\n",
        "        desired_column_order.append(f'{field_name}_{year}')\n",
        "\n",
        "    # Keep only desired columns if they exist in the DataFrame\n",
        "    final_data = final_data[[col for col in desired_column_order if col in final_data.columns]]\n",
        "\n",
        "    return final_data\n"
      ],
      "metadata": {
        "id": "sS4ZHFeCbXJ4"
      },
      "execution_count": null,
      "outputs": []
    },
    {
      "cell_type": "markdown",
      "metadata": {
        "id": "Xo_9bt8ujFON"
      },
      "source": [
        "The U.S. Census Bureau revises geographic boundaries of census tracts every 10 years.\n",
        "\n",
        "Certain census tracts are split into several census tracts in order to better reflect changes in population distribution, income, etc.\n",
        "\n",
        "For example, tract 3302 was split into 3303 and 3304 in the year 2020.\n",
        "\n",
        "As a result, tract 3302 only contains data from 2012-2019, while tracts 3303 and 3304 only contain data from 2020-2022."
      ]
    },
    {
      "cell_type": "code",
      "execution_count": null,
      "metadata": {
        "id": "dDC-aTWJjAf6"
      },
      "outputs": [],
      "source": [
        "\"\"\"\n",
        "This function is applied to the median household income and median\n",
        "house value.\n",
        "\n",
        "The new census tracts are updated with the old census tract values for\n",
        "the period provided. The old census tract is then removed from the\n",
        "dataset.\n",
        "\n",
        "The reason for this method is because medians are positional statistics\n",
        "rather than sums, like with populations, so estimating a ratio would not\n",
        "reflect actual values.\n",
        "\n",
        "The Census Bureau also does not offer granular data, so the median can\n",
        "not be calculated for each census tract.\n",
        "\n",
        "\n",
        "The new and old census tract IDs are manually obtained from the Census\n",
        "Bureau.\n",
        "\n",
        "As with the state_fips and county_fips, they should be changed to\n",
        "reflect any changes in boundaries in the state or county.\n",
        "\"\"\"\n",
        "\n",
        "\n",
        "\n",
        "def update_median_census_tracts(final_data, tract_values, columns_to_update, years):\n",
        "    \"\"\"\n",
        "    Update the values of median-based columns for specified census tracts in the\n",
        "    DataFrame using the old census tract data.\n",
        "\n",
        "    Parameters:\n",
        "    - final_data: DataFrame containing the census data.\n",
        "    - tract_values: Dictionary mapping new census tracts to old row values.\n",
        "    - columns_to_update: List of column names to update.\n",
        "    - years: The years for which the columns are updated. --- the first year cannot be before 2010, and the last year cannot be after 2019 (maximum would be range(2010, 2020))\n",
        "\n",
        "    Returns:\n",
        "    - Updated DataFrame with the specified values replaced.\n",
        "    \"\"\"\n",
        "\n",
        "    # Update new census tracts with old census tract values\n",
        "    for new_tracts, old_row in tract_values.items():\n",
        "        for new_tract in new_tracts:  # Iterate over the tuple of new tracts\n",
        "            for column in columns_to_update:\n",
        "                # Determine the year of this column\n",
        "                year = int(column.split('_')[-1])\n",
        "                if year in years:\n",
        "                    # Only copy old data for years before 2020\n",
        "                    final_data.loc[final_data['Census_Tract'] == new_tract, column] = old_row[column]\n",
        "\n",
        "    # Remove the old census tracts from the DataFrame\n",
        "    old_tracts_to_remove = [old_row['Census_Tract'] for _, old_row in tract_values.items()]\n",
        "    final_data = final_data[~final_data['Census_Tract'].isin(old_tracts_to_remove)]\n",
        "\n",
        "    return final_data"
      ]
    },
    {
      "cell_type": "code",
      "execution_count": null,
      "metadata": {
        "id": "3CWmFSDH0Jzh"
      },
      "outputs": [],
      "source": [
        "\"\"\"\n",
        "This function is applied to the population statistics.\n",
        "\n",
        "The ratio between the new census tracts for the year 2020 is calculated,\n",
        "after which the old census tract values for the period provided are\n",
        "proportionally distributed to update the new census tracts using this\n",
        "ratio.\n",
        "\n",
        "The old census tract is then removed from the dataset.\n",
        "\n",
        "Since populations are sums, estimating the population distribution in\n",
        "the new census tracts is feasible and able to more accurately reflect\n",
        "actual values than if they were to be copied over from the old census\n",
        "tracts or removed entirely.\n",
        "\n",
        "\n",
        "The new and old census tract IDs are manually obtained from the Census\n",
        "Bureau.\n",
        "\n",
        "As with the state_fips and county_fips, they should be changed to\n",
        "reflect any changes in boundaries in the state or county.\n",
        "\"\"\"\n",
        "\n",
        "\n",
        "\n",
        "def update_sum_census_tracts(final_data, tract_values, columns_to_update, years):\n",
        "    \"\"\"\n",
        "    Update the values for sum-related columns for specified census tracts in the\n",
        "    DataFrame using their ratios from the year 2020 and the old census tract data.\n",
        "\n",
        "    Parameters:\n",
        "    - final_data: DataFrame containing the census data.\n",
        "    - tract_values: Dictionary mapping new census tracts to old row values.\n",
        "    - columns_to_update: List of column names to update.\n",
        "    - years: The years for which the columns are updated. --- the first year cannot be before 2010, and the last year cannot be after 2019 (maximum would be range(2010, 2020))\n",
        "\n",
        "    Returns:\n",
        "    - Updated DataFrame with the specified values replaced.\n",
        "    \"\"\"\n",
        "    # Iterate through new tracts and proportionally distribute old data\n",
        "    for new_tracts, old_row in tract_values.items():\n",
        "        new_rows = [final_data[final_data['Census_Tract'] == tract].iloc[0] for tract in new_tracts]\n",
        "        for column in columns_to_update:\n",
        "            # Determine the year of this column\n",
        "            year = int(column.split('_')[-1])\n",
        "            if year in years:\n",
        "                total_2020 = sum(row[column[:-4] + '2020'] for row in new_rows)\n",
        "\n",
        "                # Avoid division by zero\n",
        "                ratios = [row[column[:-4] + '2020'] / total_2020 if total_2020 else 1/len(new_rows) for row in new_rows] # if total_2020 = 0 (meaning that the new census tracts had a sum population of 0), use an even split ratio among all tracts\n",
        "\n",
        "                for new_tract, ratio in zip(new_tracts, ratios):\n",
        "                    final_data.loc[final_data['Census_Tract'] == new_tract, column] = old_row[column] * ratio\n",
        "\n",
        "\n",
        "    # Remove the old census tracts from the DataFrame\n",
        "    old_tracts_to_remove = [old_row['Census_Tract'] for _, old_row in tract_values.items()]\n",
        "    final_data = final_data[~final_data['Census_Tract'].isin(old_tracts_to_remove)]\n",
        "\n",
        "    return final_data"
      ]
    },
    {
      "cell_type": "code",
      "source": [
        "def calculate_percentages(df, valid_years, categories, total_prefix):\n",
        "    \"\"\"\n",
        "    Calculates percentage values for multiple categories based on a total value for each year,\n",
        "    applied to each row in a Pandas DataFrame.\n",
        "\n",
        "    Parameters:\n",
        "    - df: DataFrame containing the census data.\n",
        "    - valid_years: List or range of years to fetch data for (e.g., range(2012,2023) for 2012 to 2022)\n",
        "    - categories: List of category prefixes (e.g., ['HighSchoolEdu_Population', 'DoctorateEdu_Population']).\n",
        "    - total_prefix: Prefix for the total column without year (e.g., 'Total_Population').\n",
        "\n",
        "    Returns:\n",
        "    - percentage_df: DataFrame with the specified category columns replaced by percentage values instead of raw counts.\n",
        "    \"\"\"\n",
        "    percentage_df = df.copy()\n",
        "    for year in valid_years:\n",
        "        total_col = f'{total_prefix}_{year}'\n",
        "        for category in categories:\n",
        "            col = f'{category}_{year}'\n",
        "            percentage_df[col] = (df[col] / df[total_col])\n",
        "    return percentage_df\n"
      ],
      "metadata": {
        "id": "00s8KnJOgqhy"
      },
      "execution_count": null,
      "outputs": []
    },
    {
      "cell_type": "code",
      "execution_count": null,
      "metadata": {
        "id": "dl-ZmJ-vjQY_"
      },
      "outputs": [],
      "source": [
        "def get_row(tract):\n",
        "    \"\"\"\n",
        "    Parameters:\n",
        "    - tract: The census tract for which to retrieve the row.\n",
        "\n",
        "    Returns:\n",
        "    - Row of data for the specified census tract.\n",
        "    \"\"\"\n",
        "\n",
        "    return final_data[final_data['Census_Tract'] == tract].iloc[0]"
      ]
    },
    {
      "cell_type": "markdown",
      "metadata": {
        "id": "s5O5DH8z3O45"
      },
      "source": [
        "# Median household income and median house value"
      ]
    },
    {
      "cell_type": "code",
      "execution_count": null,
      "metadata": {
        "id": "B_wNtW5Ec5Ia"
      },
      "outputs": [],
      "source": [
        "# Initialize DataFrames for each variable to store yearly data\n",
        "income_data_all = fetch_census_data_by_field(\n",
        "    state_fips,\n",
        "    county_fips,\n",
        "    valid_years,\n",
        "    field='B19013_001E',\n",
        "    field_name='Median_Household_Income'\n",
        ")  # Fields and subfields obtained from ACS5 Census data\n",
        "\n",
        "house_value_data_all = fetch_census_data_by_field(\n",
        "    state_fips,\n",
        "    county_fips,\n",
        "    valid_years,\n",
        "    field='B25077_001E',\n",
        "    field_name='Median_House_Value'\n",
        ")\n",
        "\n",
        "\n",
        "# Merge income and house value data into a single table\n",
        "final_data = pd.merge(income_data_all, house_value_data_all, on=['State_FIPS', 'County_FIPS', 'Census_Tract'], how='outer')\n",
        "\n",
        "# Generate Unique ID directly in the table\n",
        "final_data['Unique_ID'] = final_data['State_FIPS'] + final_data['County_FIPS'] + final_data['Census_Tract']\n",
        "\n",
        "# Reorder columns to place Unique_ID first\n",
        "cols = ['Unique_ID'] + [col for col in final_data.columns if col != 'Unique_ID']\n",
        "final_data = final_data[cols]\n",
        "\n",
        "# Define desired column order\n",
        "desired_column_order = ['Unique_ID', 'State_FIPS', 'County_FIPS', 'Census_Tract']\n",
        "\n",
        "# Dynamically add the income and house value columns\n",
        "for year in valid_years:\n",
        "    desired_column_order.extend([f'Median_Household_Income_{year}'])\n",
        "\n",
        "for year in valid_years:\n",
        "    desired_column_order.extend([f'Median_House_Value_{year}'])\n",
        "\n",
        "# Apply the desired column order\n",
        "final_data = final_data[desired_column_order]\n",
        "\n"
      ]
    },
    {
      "cell_type": "code",
      "execution_count": null,
      "metadata": {
        "id": "eo9hSvMh4bgH",
        "colab": {
          "base_uri": "https://localhost:8080/"
        },
        "outputId": "6021693e-ab7d-4e09-b698-26be77d67fd2"
      },
      "outputs": [
        {
          "output_type": "stream",
          "name": "stdout",
          "text": [
            "Data successfully saved to /content/drive/MyDrive/HousingWorkplace/NEW and IMPROVED!! Mercer County Housing Analysis/Assets/median_household_income_and_median_house_value.csv\n"
          ]
        }
      ],
      "source": [
        "# Define the rows for each of the old census tracts\n",
        "row_3302 = get_row('003302')\n",
        "row_3705 = get_row('003705')\n",
        "row_4201 = get_row('004201')\n",
        "row_4301 = get_row('004301')\n",
        "row_4304 = get_row('004304')\n",
        "row_4310 = get_row('004310')\n",
        "row_4405 = get_row('004405')\n",
        "row_2400 = get_row('002400')\n",
        "\n",
        "# Define the dictionary mapping new census tracts to their corresponding old row\n",
        "tract_values = {\n",
        "    ('003303', '003304'): row_3302,\n",
        "    ('003707', '003708'): row_3705,\n",
        "    ('004205', '004206'): row_4201,\n",
        "    ('004313', '004314'): row_4301,\n",
        "    ('004315', '004316'): row_4304,\n",
        "    ('004311', '004312'): row_4310,\n",
        "    ('004408', '004409'): row_4405,\n",
        "    ('980000',): row_2400 # this row only changed in number, did not split\n",
        "}\n",
        "\n",
        "# Call the function to update the census data\n",
        "columns_to_update = [f'Median_Household_Income_{year}' for year in valid_years] + [f'Median_House_Value_{year}' for year in valid_years] # Add other median variables here\n",
        "final_data = update_median_census_tracts(final_data, tract_values, columns_to_update, years=range(2010, 2020))\n",
        "\n",
        "# Additional row filtering - these rows contained only NA values or -666666666 (meaning that the data was hidden for privacy reasons)\n",
        "final_data = final_data[final_data['Census_Tract'] != '002400']\n",
        "final_data = final_data[final_data['Census_Tract'] != '980000']\n",
        "\n",
        "# Save the complete data to the specified path\n",
        "file_path = dir + 'median_household_income_and_median_house_value.csv'\n",
        "final_data.to_csv(file_path, index=False)\n",
        "\n",
        "# Print success message with file path\n",
        "print(f\"Data successfully saved to {file_path}\")"
      ]
    },
    {
      "cell_type": "code",
      "execution_count": null,
      "metadata": {
        "colab": {
          "base_uri": "https://localhost:8080/"
        },
        "collapsed": true,
        "id": "qx4M2irnfQyw",
        "outputId": "8f122757-7a14-40f0-96c2-c55a487e03fd"
      },
      "outputs": [
        {
          "output_type": "stream",
          "name": "stdout",
          "text": [
            "['000100' '000200' '000300' '000400' '000500' '000600' '000700' '000800'\n",
            " '000900' '001000' '001101' '001102' '001200' '001300' '001401' '001402'\n",
            " '001500' '001600' '001700' '001800' '001900' '002000' '002100' '002200'\n",
            " '002500' '002601' '002602' '002701' '002702' '002800' '002902' '002903'\n",
            " '002904' '003001' '003002' '003003' '003004' '003006' '003007' '003008'\n",
            " '003009' '003100' '003201' '003202' '003301' '003303' '003304' '003400'\n",
            " '003500' '003601' '003602' '003703' '003704' '003706' '003707' '003708'\n",
            " '003800' '003902' '003903' '003904' '003905' '004000' '004203' '004204'\n",
            " '004205' '004206' '004306' '004307' '004309' '004311' '004312' '004313'\n",
            " '004314' '004315' '004316' '004403' '004404' '004406' '004407' '004408'\n",
            " '004409' '004501' '004502']\n",
            "False\n"
          ]
        }
      ],
      "source": [
        "print(final_data['Census_Tract'].unique())  # Print unique values in the 'Census_Tract' column\n",
        "print('3302' in final_data['Census_Tract'].unique())  # Check if '3302' (one of the tracts removed) is present"
      ]
    },
    {
      "cell_type": "markdown",
      "metadata": {
        "id": "DY_3uick0IAg"
      },
      "source": [
        "# Race Populations"
      ]
    },
    {
      "cell_type": "code",
      "execution_count": null,
      "metadata": {
        "id": "TwQ5sUAq0Jj3"
      },
      "outputs": [],
      "source": [
        "# Define fields for different population categories\n",
        "fields = {\n",
        "    'Total_Population': 'B02001_001E',\n",
        "    'White_Population': 'B02001_002E',\n",
        "    'Black_Population': 'B02001_003E',\n",
        "    'Native_Population': 'B02001_004E',\n",
        "    'Asian_Population': 'B02001_005E',\n",
        "    'Hawaiian_Population': 'B02001_006E',\n",
        "    'Other_Population': 'B02001_007E',\n",
        "    'Two_Population': 'B02001_008E'\n",
        "}\n",
        "\n",
        "# Fetch data for all fields\n",
        "population_dataframes = {}\n",
        "for field_name, field in fields.items():\n",
        "    population_dataframes[field_name] = fetch_census_data_by_field(\n",
        "        state_fips,\n",
        "        county_fips,\n",
        "        valid_years,\n",
        "        field,\n",
        "        field_name\n",
        "    )\n",
        "\n",
        "\n",
        "# Merge all population data into a single DataFrame\n",
        "final_data = None\n",
        "for df in population_dataframes.values():\n",
        "    if final_data is None:\n",
        "        final_data = df\n",
        "    else:\n",
        "        final_data = pd.merge(final_data, df, on=['State_FIPS', 'County_FIPS', 'Census_Tract'], how='outer')\n",
        "\n",
        "# Generate Unique ID directly in the table\n",
        "final_data['Unique_ID'] = final_data['State_FIPS'] + final_data['County_FIPS'] + final_data['Census_Tract']\n",
        "\n",
        "# Reorder columns to place Unique_ID first\n",
        "cols = ['Unique_ID'] + [col for col in final_data.columns if col != 'Unique_ID']\n",
        "final_data = final_data[cols]\n",
        "\n",
        "# Define desired column order\n",
        "desired_column_order = ['Unique_ID', 'State_FIPS', 'County_FIPS', 'Census_Tract']\n",
        "for field_name in fields.keys():\n",
        "    for year in valid_years:\n",
        "        desired_column_order.append(f'{field_name}_{year}')\n",
        "\n",
        "# Apply the desired column order\n",
        "final_data = final_data[desired_column_order]"
      ]
    },
    {
      "cell_type": "code",
      "execution_count": null,
      "metadata": {
        "id": "6npJNG4nhRV1",
        "colab": {
          "base_uri": "https://localhost:8080/"
        },
        "outputId": "27d50c2b-0140-4dda-ea8d-84870a411312"
      },
      "outputs": [
        {
          "output_type": "stream",
          "name": "stdout",
          "text": [
            "Data successfully saved to /content/drive/MyDrive/HousingWorkplace/NEW and IMPROVED!! Mercer County Housing Analysis/Assets/race_populations.csv\n"
          ]
        }
      ],
      "source": [
        "# Define the rows for each of the old census tracts\n",
        "row_3302 = get_row('003302')\n",
        "row_3705 = get_row('003705')\n",
        "row_4201 = get_row('004201')\n",
        "row_4301 = get_row('004301')\n",
        "row_4304 = get_row('004304')\n",
        "row_4310 = get_row('004310')\n",
        "row_4405 = get_row('004405')\n",
        "row_2400 = get_row('002400')\n",
        "\n",
        "# Define the dictionary mapping new census tracts to their corresponding old row\n",
        "tract_values = {\n",
        "    ('003303', '003304'): row_3302,\n",
        "    ('003707', '003708'): row_3705,\n",
        "    ('004205', '004206'): row_4201,\n",
        "    ('004313', '004314'): row_4301,\n",
        "    ('004315', '004316'): row_4304,\n",
        "    ('004311', '004312'): row_4310,\n",
        "    ('004408', '004409'): row_4405,\n",
        "    ('980000',): row_2400 # this row only changed in number, did not split\n",
        "}\n",
        "\n",
        "# Define the columns to be updated\n",
        "population_types = ['Total', 'White', 'Black', 'Native', 'Asian', 'Hawaiian', 'Other', 'Two']\n",
        "columns_to_update = [f'{pop}_Population_{year}' for pop in population_types for year in valid_years]\n",
        "\n",
        "# Call the function to update the census data\n",
        "final_data = update_sum_census_tracts(final_data, tract_values, columns_to_update, years=range(2010, 2020))\n",
        "\n",
        "# Save the complete data to the specified path\n",
        "file_path = dir + 'race_populations.csv'\n",
        "final_data.to_csv(file_path, index=False)\n",
        "\n",
        "# Print success message with file path\n",
        "print(f\"Data successfully saved to {file_path}\")"
      ]
    },
    {
      "cell_type": "code",
      "execution_count": null,
      "metadata": {
        "id": "euxHqjjg8KP5",
        "colab": {
          "base_uri": "https://localhost:8080/"
        },
        "outputId": "48d3e7e8-5151-4afc-b895-bcbd20f0f347"
      },
      "outputs": [
        {
          "output_type": "stream",
          "name": "stdout",
          "text": [
            "Percentage data successfully saved to /content/drive/MyDrive/HousingWorkplace/NEW and IMPROVED!! Mercer County Housing Analysis/Assets/race_populations_percentages.csv\n"
          ]
        }
      ],
      "source": [
        "race_data = pd.read_csv(dir + 'race_populations.csv')\n",
        "percentage_data = race_data.copy()  # Start with a copy of the original data\n",
        "\n",
        "for year in valid_years:\n",
        "    # Calculate percentages for each race category\n",
        "    percentage_data[f'White_Population_{year}'] = (race_data[f'White_Population_{year}'] / race_data[f'Total_Population_{year}'])\n",
        "    percentage_data[f'Black_Population_{year}'] = (race_data[f'Black_Population_{year}'] / race_data[f'Total_Population_{year}'])\n",
        "    percentage_data[f'Native_Population_{year}'] = (race_data[f'Native_Population_{year}'] / race_data[f'Total_Population_{year}'])\n",
        "    percentage_data[f'Asian_Population_{year}'] = (race_data[f'Asian_Population_{year}'] / race_data[f'Total_Population_{year}'])\n",
        "    percentage_data[f'Hawaiian_Population_{year}'] = (race_data[f'Hawaiian_Population_{year}'] / race_data[f'Total_Population_{year}'])\n",
        "    percentage_data[f'Other_Population_{year}'] = (race_data[f'Other_Population_{year}'] / race_data[f'Total_Population_{year}'])\n",
        "    percentage_data[f'Two_Population_{year}'] = (race_data[f'Two_Population_{year}'] / race_data[f'Total_Population_{year}'])\n",
        "\n",
        "\n",
        "file_path = dir + 'race_populations_percentages.csv'\n",
        "percentage_data.to_csv(file_path, index=False)\n",
        "print(f\"Percentage data successfully saved to {file_path}\")"
      ]
    },
    {
      "cell_type": "markdown",
      "source": [
        "# Educational Attainment"
      ],
      "metadata": {
        "id": "WVL7--QcYinD"
      }
    },
    {
      "cell_type": "code",
      "source": [
        "# Define fields for different population categories\n",
        "fields = {\n",
        "    'Total_Population': 'B15003_001E',\n",
        "    'NoEdu_Population': 'B15003_002E',\n",
        "    'NurseryEdu_Population': 'B15003_003E',\n",
        "    'KindergartenEdu_Population': 'B15003_004E',\n",
        "    '1stEdu_Population': 'B15003_005E',\n",
        "    '2ndEdu_Population': 'B15003_006E',\n",
        "    '3rdEdu_Population': 'B15003_007E',\n",
        "    '4thEdu_Population': 'B15003_008E',\n",
        "    '5thEdu_Population': 'B15003_009E',\n",
        "    '6thEdu_Population': 'B15003_010E',\n",
        "    '7thEdu_Population': 'B15003_011E',\n",
        "    '8thEdu_Population': 'B15003_012E',\n",
        "    '9thEdu_Population': 'B15003_013E',\n",
        "    '10thEdu_Population': 'B15003_014E',\n",
        "    '11thEdu_Population': 'B15003_015E',\n",
        "    '12thEdu_Population': 'B15003_016E',\n",
        "    'HighSchoolEdu_Population': 'B15003_017E',\n",
        "    'GEDEdu_Population': 'B15003_018E',\n",
        "    'College1Edu_Population': 'B15003_019E',\n",
        "    'College2Edu_Population': 'B15003_020E',\n",
        "    'AssociateEdu_Population': 'B15003_021E',\n",
        "    'BachelorEdu_Population': 'B15003_022E',\n",
        "    'MasterEdu_Population': 'B15003_023E',\n",
        "    'ProfessionalEdu_Population': 'B15003_024E',\n",
        "    'DoctorateEdu_Population': 'B15003_025E',\n",
        "}\n",
        "\n",
        "\n",
        "# Fetch data for all fields\n",
        "edu_dataframes = {}\n",
        "for field_name, field in fields.items():\n",
        "    print(f\"Fetching data for {field_name}...\")\n",
        "    edu_dataframes[field_name] = fetch_census_data_by_field(\n",
        "        state_fips,\n",
        "        county_fips,\n",
        "        valid_years,\n",
        "        field,\n",
        "        field_name\n",
        "    )\n",
        "\n",
        "\n",
        "# Merge all population data into a single DataFrame\n",
        "final_data = None\n",
        "for df in edu_dataframes.values():\n",
        "    if final_data is None:\n",
        "        final_data = df\n",
        "    else:\n",
        "        final_data = pd.merge(final_data, df, on=['State_FIPS', 'County_FIPS', 'Census_Tract'], how='outer')\n",
        "\n",
        "# Generate Unique ID directly in the table\n",
        "final_data['Unique_ID'] = final_data['State_FIPS'] + final_data['County_FIPS'] + final_data['Census_Tract']\n",
        "\n",
        "# Reorder columns to place Unique_ID first\n",
        "cols = ['Unique_ID'] + [col for col in final_data.columns if col != 'Unique_ID']\n",
        "final_data = final_data[cols]\n",
        "\n",
        "# Define desired column order\n",
        "desired_column_order = ['Unique_ID', 'State_FIPS', 'County_FIPS', 'Census_Tract']\n",
        "for field_name in fields.keys():\n",
        "    for year in valid_years:\n",
        "        desired_column_order.append(f'{field_name}_{year}')\n",
        "\n",
        "# Apply the desired column order\n",
        "final_data = final_data[desired_column_order]"
      ],
      "metadata": {
        "colab": {
          "base_uri": "https://localhost:8080/"
        },
        "id": "lcDAsI2EYlh7",
        "outputId": "027eaa3a-94f0-42e3-86c0-f4f8e1b6f46b"
      },
      "execution_count": null,
      "outputs": [
        {
          "output_type": "stream",
          "name": "stdout",
          "text": [
            "Fetching data for Total_Population...\n",
            "Fetching data for NoEdu_Population...\n",
            "Fetching data for NurseryEdu_Population...\n",
            "Fetching data for KindergartenEdu_Population...\n",
            "Fetching data for 1stEdu_Population...\n",
            "Fetching data for 2ndEdu_Population...\n",
            "Fetching data for 3rdEdu_Population...\n",
            "Fetching data for 4thEdu_Population...\n",
            "Fetching data for 5thEdu_Population...\n",
            "Fetching data for 6thEdu_Population...\n",
            "Fetching data for 7thEdu_Population...\n",
            "Fetching data for 8thEdu_Population...\n",
            "Fetching data for 9thEdu_Population...\n",
            "Fetching data for 10thEdu_Population...\n",
            "Fetching data for 11thEdu_Population...\n",
            "Fetching data for 12thEdu_Population...\n",
            "Fetching data for HighSchoolEdu_Population...\n",
            "Fetching data for GEDEdu_Population...\n",
            "Fetching data for College1Edu_Population...\n",
            "Fetching data for College2Edu_Population...\n",
            "Fetching data for AssociateEdu_Population...\n",
            "Fetching data for BachelorEdu_Population...\n",
            "Fetching data for MasterEdu_Population...\n",
            "Fetching data for ProfessionalEdu_Population...\n",
            "Fetching data for DoctorateEdu_Population...\n"
          ]
        }
      ]
    },
    {
      "cell_type": "code",
      "source": [
        "# Define the rows for each of the old census tracts\n",
        "row_3302 = get_row('003302')\n",
        "row_3705 = get_row('003705')\n",
        "row_4201 = get_row('004201')\n",
        "row_4301 = get_row('004301')\n",
        "row_4304 = get_row('004304')\n",
        "row_4310 = get_row('004310')\n",
        "row_4405 = get_row('004405')\n",
        "row_2400 = get_row('002400')\n",
        "\n",
        "# Define the dictionary mapping new census tracts to their corresponding old row\n",
        "tract_values = {\n",
        "    ('003303', '003304'): row_3302,\n",
        "    ('003707', '003708'): row_3705,\n",
        "    ('004205', '004206'): row_4201,\n",
        "    ('004313', '004314'): row_4301,\n",
        "    ('004315', '004316'): row_4304,\n",
        "    ('004311', '004312'): row_4310,\n",
        "    ('004408', '004409'): row_4405,\n",
        "    ('980000',): row_2400 # this row only changed in number, did not split\n",
        "}\n",
        "\n",
        "# Define the columns to be updated\n",
        "edu_types = ['Total', 'NoEdu', 'NurseryEdu', 'KindergartenEdu', '1stEdu', '2ndEdu', '3rdEdu', '4thEdu', '5thEdu', '6thEdu', '7thEdu', '8thEdu', '9thEdu', '10thEdu', '11thEdu', '12thEdu', 'HighSchoolEdu', 'GEDEdu', 'College1Edu', 'College2Edu', 'AssociateEdu', 'BachelorEdu', 'MasterEdu', 'ProfessionalEdu', 'DoctorateEdu']\n",
        "columns_to_update = [f'{edu}_Population_{year}' for edu in edu_types for year in valid_years]\n",
        "\n",
        "# Call the function to update the census data\n",
        "final_data = update_sum_census_tracts(final_data, tract_values, columns_to_update, years=range(2010, 2020))\n",
        "\n",
        "# Save the complete data to the specified path\n",
        "file_path = dir + 'educational_attainment.csv'\n",
        "final_data.to_csv(file_path, index=False)\n",
        "\n",
        "# Print success message with file path\n",
        "print(f\"Data successfully saved to {file_path}\")"
      ],
      "metadata": {
        "colab": {
          "base_uri": "https://localhost:8080/"
        },
        "id": "_M1VEJocc8eS",
        "outputId": "fb74ab93-436d-4b22-ffa4-b5cc9a11564c"
      },
      "execution_count": null,
      "outputs": [
        {
          "output_type": "stream",
          "name": "stdout",
          "text": [
            "Data successfully saved to /content/drive/MyDrive/HousingWorkplace/NEW and IMPROVED!! Mercer County Housing Analysis/Assets/educational_attainment.csv\n"
          ]
        }
      ]
    },
    {
      "cell_type": "code",
      "source": [
        "edu_data = pd.read_csv(dir + 'educational_attainment.csv')\n",
        "percentage_data = edu_data.copy()  # Start with a copy of the original data\n",
        "\n",
        "# Variable list\n",
        "base_vars = [\n",
        "    'Total', 'NoEdu', 'NurseryEdu', 'KindergartenEdu', '1stEdu', '2ndEdu', '3rdEdu',\n",
        "    '4thEdu', '5thEdu', '6thEdu', '7thEdu', '8thEdu', '9thEdu', '10thEdu', '11thEdu',\n",
        "    '12thEdu', 'HighSchoolEdu', 'GEDEdu', 'College1Edu', 'College2Edu',\n",
        "    'AssociateEdu', 'BachelorEdu', 'MasterEdu', 'ProfessionalEdu', 'DoctorateEdu'\n",
        "]\n",
        "\n",
        "# Append _Population to each\n",
        "categories = [var + '_Population' for var in base_vars if var != 'Total']\n",
        "\n",
        "# Run function — using 'Total_Population' as total_prefix\n",
        "percentage_data = calculate_percentages(edu_data, valid_years, categories, 'Total_Population')\n",
        "\n",
        "\n",
        "file_path = dir + 'educational_attainment_percentages.csv'\n",
        "percentage_data.to_csv(file_path, index=False)\n",
        "print(f\"Percentage data successfully saved to {file_path}\")"
      ],
      "metadata": {
        "colab": {
          "base_uri": "https://localhost:8080/"
        },
        "id": "oXRb8l3_SQoY",
        "outputId": "4ec06be5-f637-4f0f-8e5f-3918ef608520"
      },
      "execution_count": null,
      "outputs": [
        {
          "output_type": "stream",
          "name": "stdout",
          "text": [
            "Percentage data successfully saved to /content/drive/MyDrive/HousingWorkplace/NEW and IMPROVED!! Mercer County Housing Analysis/Assets/educational_attainment_percentages.csv\n"
          ]
        }
      ]
    },
    {
      "cell_type": "markdown",
      "metadata": {
        "id": "xGahAFpaiGyj"
      },
      "source": [
        "# Other Variables"
      ]
    },
    {
      "cell_type": "markdown",
      "metadata": {
        "id": "vuRiocjriI55"
      },
      "source": [
        "These are other variables that could be taken into consideration for their impacts on house value. Note that not all variables here are recorded in the U.S. Census Bureau's American Community Survey, and other methods of cleaning the data will be necessary for other types of statistics, like means.\n",
        "- Average household size\n",
        "-School quality\n",
        "-Age of residents\n",
        "-Income\n",
        "-Family size\n",
        "-Race\n",
        "-Crime rates\n",
        "-Policies\n",
        "-Distance from economic centers or malls\n",
        "-Distance from highways and train stations, public transport etc.\n",
        "-Interest rates\n",
        "-Unemployment rates\n",
        "-Inflation rates\n",
        "-Air quality, noise pollution\n",
        "-New intrastructure construction\n",
        "-Languages spoken\n",
        "-Migration patterns\n",
        "-New businesses/innovation\n",
        "-Number of gas stations\n",
        "-Number of fast food restaurants"
      ]
    }
  ],
  "metadata": {
    "colab": {
      "collapsed_sections": [
        "xGahAFpaiGyj"
      ],
      "provenance": []
    },
    "kernelspec": {
      "display_name": "Python 3",
      "name": "python3"
    },
    "language_info": {
      "name": "python"
    }
  },
  "nbformat": 4,
  "nbformat_minor": 0
}